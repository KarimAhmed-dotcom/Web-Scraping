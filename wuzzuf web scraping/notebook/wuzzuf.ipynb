{
 "cells": [
  {
   "cell_type": "code",
   "execution_count": 1,
   "id": "00208706",
   "metadata": {},
   "outputs": [],
   "source": [
    "import pandas as pd \n",
    "from bs4 import BeautifulSoup \n",
    "import requests "
   ]
  },
  {
   "cell_type": "code",
   "execution_count": 4,
   "id": "dfd54f4c",
   "metadata": {},
   "outputs": [],
   "source": [
    "result=requests.get('https://wuzzuf.net/search/jobs/?a=navbg&q=data%20analyst&start=')  \n",
    "src=result.content \n",
    "soup=BeautifulSoup(src,\"lxml\") "
   ]
  },
  {
   "cell_type": "code",
   "execution_count": 5,
   "id": "bea9c40d",
   "metadata": {},
   "outputs": [],
   "source": [
    "job_title=soup.find_all(\"h2\",{\"class\":\"css-m604qf\"}) \n",
    "company_name=soup.find_all(\"a\",{\"class\":\"css-17s97q8\"})\n",
    "company_location=soup.find_all(\"span\",{\"class\":\"css-5wys0k\"})\n",
    "job_skills=soup.find_all('div', attrs={'class': None})\n",
    "job_nature=soup.find_all(\"span\",{\"class\":\"css-1ve4b75 eoyjyou0\"}) "
   ]
  },
  {
   "cell_type": "code",
   "execution_count": 6,
   "id": "fef5f04f",
   "metadata": {},
   "outputs": [],
   "source": [
    "titles=[] \n",
    "names=[]\n",
    "locations=[] \n",
    "nature=[]\n",
    "skills=[] "
   ]
  },
  {
   "cell_type": "code",
   "execution_count": 7,
   "id": "8218ddff",
   "metadata": {},
   "outputs": [],
   "source": [
    "for i in range(len(job_title)) : \n",
    "    titles.append(job_title[i].text) \n",
    "    names.append(company_name[i].text)\n",
    "    locations.append(company_location[i].text)\n",
    "    nature.append(job_nature[i].text)"
   ]
  },
  {
   "cell_type": "code",
   "execution_count": 8,
   "id": "afbd03d7",
   "metadata": {},
   "outputs": [],
   "source": [
    "for i in range(6,21) : \n",
    "      skills.append(job_skills[i].text)"
   ]
  },
  {
   "cell_type": "code",
   "execution_count": 9,
   "id": "2efe126b",
   "metadata": {},
   "outputs": [],
   "source": [
    "for i in range(10) : \n",
    "    result=requests.get(f'https://wuzzuf.net/search/jobs/?a=navbg&q=data%20analyst&start={i}')  \n",
    "    src=result.content \n",
    "    soup=BeautifulSoup(src,\"lxml\")\n",
    "    job_title=soup.find_all(\"h2\",{\"class\":\"css-m604qf\"}) \n",
    "    company_name=soup.find_all(\"a\",{\"class\":\"css-17s97q8\"})\n",
    "    company_location=soup.find_all(\"span\",{\"class\":\"css-5wys0k\"})\n",
    "    job_skills=soup.find_all('div', attrs={'class': None})\n",
    "    job_nature=soup.find_all(\"span\",{\"class\":\"css-1ve4b75 eoyjyou0\"}) \n",
    "    \n",
    "    for i in range(len(job_title)) : \n",
    "        titles.append(job_title[i].text) \n",
    "        names.append(company_name[i].text)\n",
    "        locations.append(company_location[i].text)\n",
    "        nature.append(job_nature[i].text)\n",
    "    \n",
    "    for i in range(6,21) : \n",
    "        skills.append(job_skills[i].text)"
   ]
  },
  {
   "cell_type": "code",
   "execution_count": 10,
   "id": "2385f1c5",
   "metadata": {},
   "outputs": [],
   "source": [
    "wuzzuf={'job_title':titles,'company_name':names,'company_location':locations,'job_nature':nature,'job_skills':skills}"
   ]
  },
  {
   "cell_type": "code",
   "execution_count": 11,
   "id": "39af7692",
   "metadata": {},
   "outputs": [],
   "source": [
    "wuzzuf=pd.DataFrame(wuzzuf)"
   ]
  },
  {
   "cell_type": "code",
   "execution_count": 12,
   "id": "0590750d",
   "metadata": {},
   "outputs": [
    {
     "data": {
      "text/html": [
       "<div>\n",
       "<style scoped>\n",
       "    .dataframe tbody tr th:only-of-type {\n",
       "        vertical-align: middle;\n",
       "    }\n",
       "\n",
       "    .dataframe tbody tr th {\n",
       "        vertical-align: top;\n",
       "    }\n",
       "\n",
       "    .dataframe thead th {\n",
       "        text-align: right;\n",
       "    }\n",
       "</style>\n",
       "<table border=\"1\" class=\"dataframe\">\n",
       "  <thead>\n",
       "    <tr style=\"text-align: right;\">\n",
       "      <th></th>\n",
       "      <th>job_title</th>\n",
       "      <th>company_name</th>\n",
       "      <th>company_location</th>\n",
       "      <th>job_nature</th>\n",
       "      <th>job_skills</th>\n",
       "    </tr>\n",
       "  </thead>\n",
       "  <tbody>\n",
       "    <tr>\n",
       "      <th>0</th>\n",
       "      <td>Senior Data Analyst</td>\n",
       "      <td>Sceel.io -</td>\n",
       "      <td>Maadi, Cairo, Egypt</td>\n",
       "      <td>Full Time</td>\n",
       "      <td>Experienced · 3 - 7 Yrs of Exp · IT/Software D...</td>\n",
       "    </tr>\n",
       "    <tr>\n",
       "      <th>1</th>\n",
       "      <td>Data Analyst</td>\n",
       "      <td>ITCan -</td>\n",
       "      <td>Rehab City, Cairo, Egypt</td>\n",
       "      <td>Full Time</td>\n",
       "      <td>Experienced · 2 - 5 Yrs of Exp · Analyst/Resea...</td>\n",
       "    </tr>\n",
       "    <tr>\n",
       "      <th>2</th>\n",
       "      <td>Export Data Analyst</td>\n",
       "      <td>Evyap Egypt -</td>\n",
       "      <td>Sheraton, Cairo, Egypt</td>\n",
       "      <td>Full Time</td>\n",
       "      <td>Experienced · 3 - 5 Yrs of Exp · Sales/Retail ...</td>\n",
       "    </tr>\n",
       "    <tr>\n",
       "      <th>3</th>\n",
       "      <td>Data Analyst</td>\n",
       "      <td>The Address Investments for Real Estate Consul...</td>\n",
       "      <td>New Cairo, Cairo, Egypt</td>\n",
       "      <td>Full Time</td>\n",
       "      <td>Experienced · 2 - 5 Yrs of Exp · IT/Software D...</td>\n",
       "    </tr>\n",
       "    <tr>\n",
       "      <th>4</th>\n",
       "      <td>Data Analyst</td>\n",
       "      <td>The Egyptian Microfinance Company- Maksab -</td>\n",
       "      <td>New Cairo, Cairo, Egypt</td>\n",
       "      <td>Full Time</td>\n",
       "      <td>Experienced · 1 - 3 Yrs of Exp · Accounting/Fi...</td>\n",
       "    </tr>\n",
       "    <tr>\n",
       "      <th>...</th>\n",
       "      <td>...</td>\n",
       "      <td>...</td>\n",
       "      <td>...</td>\n",
       "      <td>...</td>\n",
       "      <td>...</td>\n",
       "    </tr>\n",
       "    <tr>\n",
       "      <th>160</th>\n",
       "      <td>Financial Planning And Analysis Senior Manager</td>\n",
       "      <td>Confidential -</td>\n",
       "      <td>Maadi, Cairo, Egypt</td>\n",
       "      <td>Internship</td>\n",
       "      <td>Manager · 10 - 12 Yrs of Exp · Accounting/Fina...</td>\n",
       "    </tr>\n",
       "    <tr>\n",
       "      <th>161</th>\n",
       "      <td>Market Research Executive</td>\n",
       "      <td>Arma Non Food -</td>\n",
       "      <td>Maadi, Cairo, Egypt</td>\n",
       "      <td>Full Time</td>\n",
       "      <td>Entry Level · 2 - 5 Yrs of Exp · Marketing/PR/...</td>\n",
       "    </tr>\n",
       "    <tr>\n",
       "      <th>162</th>\n",
       "      <td>Cost Accountant</td>\n",
       "      <td>Confidential -</td>\n",
       "      <td>10th of Ramadan City, Sharqia, Egypt</td>\n",
       "      <td>Full Time</td>\n",
       "      <td>Experienced · 5 - 7 Yrs of Exp · Accounting/Fi...</td>\n",
       "    </tr>\n",
       "    <tr>\n",
       "      <th>163</th>\n",
       "      <td>Accounting Supervisor</td>\n",
       "      <td>Confidential -</td>\n",
       "      <td>New Nozha, Cairo, Egypt</td>\n",
       "      <td>Full Time</td>\n",
       "      <td>Experienced · 3 - 5 Yrs of Exp · Accounting/Fi...</td>\n",
       "    </tr>\n",
       "    <tr>\n",
       "      <th>164</th>\n",
       "      <td>Cost Accountant</td>\n",
       "      <td>Confidential -</td>\n",
       "      <td>Maadi, Cairo, Egypt</td>\n",
       "      <td>Full Time</td>\n",
       "      <td>Experienced · 4 - 5 Yrs of Exp · Accounting/Fi...</td>\n",
       "    </tr>\n",
       "  </tbody>\n",
       "</table>\n",
       "<p>165 rows × 5 columns</p>\n",
       "</div>"
      ],
      "text/plain": [
       "                                          job_title  \\\n",
       "0                               Senior Data Analyst   \n",
       "1                                      Data Analyst   \n",
       "2                               Export Data Analyst   \n",
       "3                                      Data Analyst   \n",
       "4                                      Data Analyst   \n",
       "..                                              ...   \n",
       "160  Financial Planning And Analysis Senior Manager   \n",
       "161                       Market Research Executive   \n",
       "162                                 Cost Accountant   \n",
       "163                           Accounting Supervisor   \n",
       "164                                 Cost Accountant   \n",
       "\n",
       "                                          company_name  \\\n",
       "0                                           Sceel.io -   \n",
       "1                                              ITCan -   \n",
       "2                                        Evyap Egypt -   \n",
       "3    The Address Investments for Real Estate Consul...   \n",
       "4          The Egyptian Microfinance Company- Maksab -   \n",
       "..                                                 ...   \n",
       "160                                     Confidential -   \n",
       "161                                    Arma Non Food -   \n",
       "162                                     Confidential -   \n",
       "163                                     Confidential -   \n",
       "164                                     Confidential -   \n",
       "\n",
       "                          company_location  job_nature  \\\n",
       "0                     Maadi, Cairo, Egypt    Full Time   \n",
       "1                Rehab City, Cairo, Egypt    Full Time   \n",
       "2                  Sheraton, Cairo, Egypt    Full Time   \n",
       "3                 New Cairo, Cairo, Egypt    Full Time   \n",
       "4                 New Cairo, Cairo, Egypt    Full Time   \n",
       "..                                     ...         ...   \n",
       "160                   Maadi, Cairo, Egypt   Internship   \n",
       "161                   Maadi, Cairo, Egypt    Full Time   \n",
       "162  10th of Ramadan City, Sharqia, Egypt    Full Time   \n",
       "163               New Nozha, Cairo, Egypt    Full Time   \n",
       "164                   Maadi, Cairo, Egypt    Full Time   \n",
       "\n",
       "                                            job_skills  \n",
       "0    Experienced · 3 - 7 Yrs of Exp · IT/Software D...  \n",
       "1    Experienced · 2 - 5 Yrs of Exp · Analyst/Resea...  \n",
       "2    Experienced · 3 - 5 Yrs of Exp · Sales/Retail ...  \n",
       "3    Experienced · 2 - 5 Yrs of Exp · IT/Software D...  \n",
       "4    Experienced · 1 - 3 Yrs of Exp · Accounting/Fi...  \n",
       "..                                                 ...  \n",
       "160  Manager · 10 - 12 Yrs of Exp · Accounting/Fina...  \n",
       "161  Entry Level · 2 - 5 Yrs of Exp · Marketing/PR/...  \n",
       "162  Experienced · 5 - 7 Yrs of Exp · Accounting/Fi...  \n",
       "163  Experienced · 3 - 5 Yrs of Exp · Accounting/Fi...  \n",
       "164  Experienced · 4 - 5 Yrs of Exp · Accounting/Fi...  \n",
       "\n",
       "[165 rows x 5 columns]"
      ]
     },
     "execution_count": 12,
     "metadata": {},
     "output_type": "execute_result"
    }
   ],
   "source": [
    "wuzzuf"
   ]
  },
  {
   "cell_type": "code",
   "execution_count": 13,
   "id": "2a107bd7",
   "metadata": {},
   "outputs": [
    {
     "ename": "NameError",
     "evalue": "name 'WUZZUF' is not defined",
     "output_type": "error",
     "traceback": [
      "\u001b[1;31m---------------------------------------------------------------------------\u001b[0m",
      "\u001b[1;31mNameError\u001b[0m                                 Traceback (most recent call last)",
      "Cell \u001b[1;32mIn[13], line 1\u001b[0m\n\u001b[1;32m----> 1\u001b[0m \u001b[43mWUZZUF\u001b[49m\u001b[38;5;241m.\u001b[39mto_csv(\u001b[38;5;124m'\u001b[39m\u001b[38;5;124mWUZZUF.csv\u001b[39m\u001b[38;5;124m'\u001b[39m,index\u001b[38;5;241m=\u001b[39m\u001b[38;5;28;01mFalse\u001b[39;00m)\n",
      "\u001b[1;31mNameError\u001b[0m: name 'WUZZUF' is not defined"
     ]
    }
   ],
   "source": [
    "WUZZUF.to_csv('WUZZUF.csv',index=False)"
   ]
  }
 ],
 "metadata": {
  "kernelspec": {
   "display_name": "Python 3 (ipykernel)",
   "language": "python",
   "name": "python3"
  },
  "language_info": {
   "codemirror_mode": {
    "name": "ipython",
    "version": 3
   },
   "file_extension": ".py",
   "mimetype": "text/x-python",
   "name": "python",
   "nbconvert_exporter": "python",
   "pygments_lexer": "ipython3",
   "version": "3.10.9"
  }
 },
 "nbformat": 4,
 "nbformat_minor": 5
}
