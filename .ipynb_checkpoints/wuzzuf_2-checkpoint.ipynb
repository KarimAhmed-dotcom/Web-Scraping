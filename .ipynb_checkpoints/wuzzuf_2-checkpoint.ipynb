{
 "cells": [
  {
   "cell_type": "markdown",
   "id": "554cb422",
   "metadata": {},
   "source": [
    "- Visit the website [WUZZUF](https://wuzzuf.net/searchtran) ."
   ]
  },
  {
   "cell_type": "markdown",
   "id": "8c92d377",
   "metadata": {},
   "source": [
    "- \"Wuzzuf\" is an Egyptian online job portal that provides recruitment and human resources management services. It is one of the leading job sites in Egypt, offering its services in all governorates of the country. The site allows job seekers and companies to search for and connect with each other online. It also provides various services to companies, institutions, and individuals to search for suitable jobs and improve their chances of finding new job opportunities. "
   ]
  },
  {
   "cell_type": "markdown",
   "id": "58b40cc8",
   "metadata": {},
   "source": [
    "- In this project, we will extract data from the Wuzzuf website and save it in a CSV file."
   ]
  },
  {
   "cell_type": "markdown",
   "id": "50d20e2c",
   "metadata": {},
   "source": [
    "**1st: we import needed libraries**\n"
   ]
  },
  {
   "cell_type": "code",
   "execution_count": 151,
   "id": "f12dc3f3",
   "metadata": {},
   "outputs": [],
   "source": [
    "# imports \n",
    "import requests \n",
    "import csv \n",
    "from bs4 import BeautifulSoup \n",
    "from itertools import zip_longest\n",
    "import pandas as pd"
   ]
  },
  {
   "cell_type": "markdown",
   "id": "e1e15c96",
   "metadata": {},
   "source": [
    "**2nd: we use requests to return the page**"
   ]
  },
  {
   "cell_type": "code",
   "execution_count": 2,
   "id": "2fa3da5c",
   "metadata": {},
   "outputs": [],
   "source": [
    "# use request to fetch the url \n",
    "# result store the page that we need  \n",
    "# requests.get >> return the page in a result\n",
    "\n",
    "result=requests.get(\"https://wuzzuf.net/search/jobs/?q=data+scientist&a=navbg\")"
   ]
  },
  {
   "cell_type": "markdown",
   "id": "ba266aad",
   "metadata": {},
   "source": [
    "**3rd: we use content to return the content of page in src variable**"
   ]
  },
  {
   "cell_type": "code",
   "execution_count": 3,
   "id": "89f01d2a",
   "metadata": {},
   "outputs": [],
   "source": [
    "# we need the content of the page\n",
    "src=result.content"
   ]
  },
  {
   "cell_type": "markdown",
   "id": "2649aa9e",
   "metadata": {},
   "source": [
    "**4th: we can deal with content and extract information by beatufil soup library**"
   ]
  },
  {
   "cell_type": "code",
   "execution_count": 4,
   "id": "7f1f74f3",
   "metadata": {},
   "outputs": [],
   "source": [
    "# soup object need the content and the parser \n",
    "soup=BeautifulSoup(src,\"lxml\")"
   ]
  },
  {
   "cell_type": "markdown",
   "id": "706f00ef",
   "metadata": {},
   "source": [
    "**5th: find the elements containing info we need**"
   ]
  },
  {
   "cell_type": "markdown",
   "id": "b365a613",
   "metadata": {},
   "source": [
    "- we need job title - job skills - company name - location name\n",
    "- any web page consists of HTML,CSS,JavaScript \n",
    "- the content we need write in HTML \n",
    "- so if we go to any part on the page and click right click,then inspect , it show us the HTML that developers use it to make the sahpe of the page "
   ]
  },
  {
   "cell_type": "markdown",
   "id": "16136bb5",
   "metadata": {},
   "source": [
    "- the HTML consists of some tages     \n",
    "\n",
    "- we need some text from the page,this text located inside tages \n",
    "\n",
    "- so we need to search about tages that contain our text \n",
    "\n",
    "- after we click inspect in the text we need , we can ee the html code about the text \n",
    "\n",
    "- we need the tage for this text \n",
    "\n",
    "- so after we know the tag we can search about this tag , this can be done by \"find_all\" function in beatufil soup \n",
    "\n",
    "- this function takes two parameters , the 1st is the tage we searched about , 2nd is the properties of the tage (the property that describe the tag ,aech ag has a unique class that can describe it) \n",
    "\n",
    "- so we can use a class name for each age in the 2nd parameter"
   ]
  },
  {
   "cell_type": "markdown",
   "id": "c9b6c629",
   "metadata": {},
   "source": [
    "- \"find_all\" function return a list contains all tags we filtered on it"
   ]
  },
  {
   "cell_type": "code",
   "execution_count": 8,
   "id": "571eb9fb",
   "metadata": {},
   "outputs": [],
   "source": [
    "job_titles=soup.find_all(\"h2\",{\"class\":\"css-m604qf\"}) "
   ]
  },
  {
   "cell_type": "code",
   "execution_count": 9,
   "id": "91ccde2c",
   "metadata": {},
   "outputs": [],
   "source": [
    "company_name=soup.find_all(\"a\",{\"class\":\"css-17s97q8\"})"
   ]
  },
  {
   "cell_type": "code",
   "execution_count": 14,
   "id": "0d1f23ff",
   "metadata": {},
   "outputs": [],
   "source": [
    "company_location=soup.find_all(\"span\",{\"class\":\"css-5wys0k\"})"
   ]
  },
  {
   "cell_type": "code",
   "execution_count": 21,
   "id": "c33a15e1",
   "metadata": {},
   "outputs": [],
   "source": [
    "job_skills=soup.find_all('div', attrs={'class': None})"
   ]
  },
  {
   "cell_type": "code",
   "execution_count": 28,
   "id": "8307b9f6",
   "metadata": {},
   "outputs": [],
   "source": [
    "job_nature=soup.find_all(\"div\",{\"class\":\"css-1lh32fc\"}) "
   ]
  },
  {
   "cell_type": "code",
   "execution_count": 143,
   "id": "d900be80",
   "metadata": {},
   "outputs": [],
   "source": [
    "titles=[] \n",
    "names=[]\n",
    "locations=[] \n",
    "nature=[]\n",
    "skills=[] "
   ]
  },
  {
   "cell_type": "code",
   "execution_count": 144,
   "id": "84108632",
   "metadata": {},
   "outputs": [],
   "source": [
    "for i in range(6,21) : \n",
    "      skills.append(job_skills[i].text)"
   ]
  },
  {
   "cell_type": "code",
   "execution_count": 145,
   "id": "ce6948c1",
   "metadata": {},
   "outputs": [],
   "source": [
    "for i in range(len(job_titles)) : \n",
    "    titles.append(job_titles[i].text) \n",
    "    names.append(company_name[i].text)\n",
    "    nature.append(job_nature[i].text)\n",
    "    locations.append(company_location[i].text)"
   ]
  },
  {
   "cell_type": "code",
   "execution_count": 146,
   "id": "e8be7a7b",
   "metadata": {},
   "outputs": [
    {
     "data": {
      "text/plain": [
       "['DATA ENGINEER (DATA SCIENTIST) -NCR (REMOTE) (EURO Rates)',\n",
       " 'Data Scientist/ Analyst- Remote - Urgent',\n",
       " 'Data Scientist',\n",
       " 'Senior Data Scientist',\n",
       " 'Data Scientist',\n",
       " 'immunology/immuno-oncology scientist',\n",
       " 'Business Analyst \"Data & AI\"',\n",
       " 'Data Science Software Intern',\n",
       " 'Product Manager & Team Lead',\n",
       " 'Senior AI & NLP Engineer',\n",
       " 'Senior Data Management Engineer',\n",
       " 'Full Stack Developer - Laravel',\n",
       " 'Power BI Developer',\n",
       " 'Full Stack Developer',\n",
       " 'Senior Full Stack Developer (.NET & Angular)']"
      ]
     },
     "execution_count": 146,
     "metadata": {},
     "output_type": "execute_result"
    }
   ],
   "source": [
    "titles"
   ]
  },
  {
   "cell_type": "code",
   "execution_count": 147,
   "id": "06890923",
   "metadata": {},
   "outputs": [
    {
     "data": {
      "text/plain": [
       "['Cairo, Egypt ',\n",
       " 'Cairo, Egypt ',\n",
       " 'Giza, Egypt ',\n",
       " 'New Nozha, Cairo, Egypt ',\n",
       " 'Sheikh Zayed, Giza, Egypt ',\n",
       " 'Cairo, Egypt ',\n",
       " 'New Cairo, Cairo, Egypt ',\n",
       " 'Cairo, Egypt ',\n",
       " 'Cairo, Egypt ',\n",
       " 'Cairo, Egypt ',\n",
       " 'Cairo, Egypt ',\n",
       " 'Tanta, Gharbia, Egypt ',\n",
       " '10th of Ramadan City, Cairo, Egypt ',\n",
       " 'Cairo, Egypt ',\n",
       " 'Cairo, Egypt ']"
      ]
     },
     "execution_count": 147,
     "metadata": {},
     "output_type": "execute_result"
    }
   ],
   "source": [
    "locations"
   ]
  },
  {
   "cell_type": "code",
   "execution_count": 148,
   "id": "b3b73546",
   "metadata": {},
   "outputs": [
    {
     "data": {
      "text/plain": [
       "['Pillars -',\n",
       " 'GetTechForce.com -',\n",
       " 'Confidential -',\n",
       " 'Confidential -',\n",
       " 'Seoudi Supermarket -',\n",
       " 'Proteinea -',\n",
       " 'Global Brands -',\n",
       " 'Sequel Solutions -',\n",
       " 'Genify.ai -',\n",
       " 'Eg Insurtech -',\n",
       " 'Ejada  -',\n",
       " 'Visit Ventures -',\n",
       " 'Duravit AG -',\n",
       " 'The Egyptian Microfinance Company- Maksab -',\n",
       " 'FlairsTech -']"
      ]
     },
     "execution_count": 148,
     "metadata": {},
     "output_type": "execute_result"
    }
   ],
   "source": [
    "names"
   ]
  },
  {
   "cell_type": "code",
   "execution_count": 149,
   "id": "c52b0eeb",
   "metadata": {},
   "outputs": [
    {
     "data": {
      "text/plain": [
       "['Full Time',\n",
       " 'Full TimeWork From Home',\n",
       " 'Full Time',\n",
       " 'Full Time',\n",
       " 'Full Time',\n",
       " 'Full Time',\n",
       " 'Full Time',\n",
       " 'Internship',\n",
       " 'Full Time',\n",
       " 'Full Time',\n",
       " 'Full Time',\n",
       " 'Full TimeWork From Home',\n",
       " 'Full Time',\n",
       " 'Full Time',\n",
       " 'Full Time']"
      ]
     },
     "execution_count": 149,
     "metadata": {},
     "output_type": "execute_result"
    }
   ],
   "source": [
    "nature"
   ]
  },
  {
   "cell_type": "code",
   "execution_count": 155,
   "id": "338b6e04",
   "metadata": {},
   "outputs": [
    {
     "data": {
      "text/plain": [
       "['Experienced · 5 - 9 Yrs of Exp · IT/Software Development · Engineering - Telecom/Technology · Azure · ITIL · Azure Synapse · Azure SQL Database · Solarwinds DPA',\n",
       " 'Experienced · 3+ Yrs of Exp · IT/Software Development · Engineering - Telecom/Technology · Python · React · FullStack · backend · Computer Science · Agile · Development · Django',\n",
       " 'Experienced · 2 - 4 Yrs of Exp · IT/Software Development · Analyst/Research · Engineering - Telecom/Technology · Computer Science · Data Science · data scientist · Engineering · Data · Information Technology (IT) · Python',\n",
       " 'Experienced · 4 - 6 Yrs of Exp · R&D/Science · Business Development · Analyst/Research · Analysis · Data Science · Information Technology (IT) · Engineering · Computer Science · Software Engineering · Software Development',\n",
       " 'Experienced · 1 - 4 Yrs of Exp · IT/Software Development · Analyst/Research · Engineering - Telecom/Technology · Computer Science · Data Science · Programming · Python · Algorithms · SQL',\n",
       " 'Entry Level · R&D/Science · Immunology · immuno-oncology',\n",
       " 'Experienced · 2 - 3 Yrs of Exp · Business Development · Engineering - Telecom/Technology · analytical · BI · Business Analysis · Computer Science · Data Analysis · Power BI · Analysis · business',\n",
       " 'Student · 0 - 1 Yrs of Exp · IT/Software Development · Engineering - Telecom/Technology · Computer Science · Algorithms · Information Technology (IT) · Python · Software · Software Development · Software Engineering · Programming',\n",
       " 'Manager · 4 - 10 Yrs of Exp · Banking · IT/Software Development · Engineering - Telecom/Technology · API · Fintech · Data · Credit scoring · product manager · Software',\n",
       " 'Experienced · 4 - 6 Yrs of Exp · IT/Software Development · AI · NLP · Data Science · Computer Science · Software Development · computer',\n",
       " 'Experienced · 5+ Yrs of Exp · IT/Software Development · Engineering - Telecom/Technology · Information Technology (IT) · data engineer',\n",
       " 'Entry Level · 2 - 4 Yrs of Exp · IT/Software Development · Computer Science · PHP',\n",
       " 'Entry Level · 2 - 3 Yrs of Exp · IT/Software Development · Engineering - Telecom/Technology · Power BI · BI',\n",
       " 'Experienced · 2 - 5 Yrs of Exp · Creative/Design/Art · IT/Software Development · Angular · HTML · Java · JavaScript · jQuery · Software Development · Information Technology (IT) · CSS',\n",
       " 'Experienced · 4 - 7 Yrs of Exp · Creative/Design/Art · IT/Software Development · Engineering - Telecom/Technology · .Net · Angular · ASP.Net · Computer Science · CSS · Git · HTML']"
      ]
     },
     "execution_count": 155,
     "metadata": {},
     "output_type": "execute_result"
    }
   ],
   "source": [
    "skills"
   ]
  },
  {
   "cell_type": "code",
   "execution_count": 156,
   "id": "807f0d5c",
   "metadata": {},
   "outputs": [],
   "source": [
    "wuzzuf={'job_title':titles,'company_name':names,'company_location':locations,'job_nature':nature,'job_skills':skills}"
   ]
  },
  {
   "cell_type": "code",
   "execution_count": 157,
   "id": "52574d3c",
   "metadata": {},
   "outputs": [],
   "source": [
    "wuzzuf=pd.DataFrame(wuzzuf)"
   ]
  },
  {
   "cell_type": "code",
   "execution_count": 158,
   "id": "9120c660",
   "metadata": {},
   "outputs": [
    {
     "data": {
      "text/html": [
       "<div>\n",
       "<style scoped>\n",
       "    .dataframe tbody tr th:only-of-type {\n",
       "        vertical-align: middle;\n",
       "    }\n",
       "\n",
       "    .dataframe tbody tr th {\n",
       "        vertical-align: top;\n",
       "    }\n",
       "\n",
       "    .dataframe thead th {\n",
       "        text-align: right;\n",
       "    }\n",
       "</style>\n",
       "<table border=\"1\" class=\"dataframe\">\n",
       "  <thead>\n",
       "    <tr style=\"text-align: right;\">\n",
       "      <th></th>\n",
       "      <th>job_title</th>\n",
       "      <th>company_name</th>\n",
       "      <th>company_location</th>\n",
       "      <th>job_nature</th>\n",
       "      <th>job_skills</th>\n",
       "    </tr>\n",
       "  </thead>\n",
       "  <tbody>\n",
       "    <tr>\n",
       "      <th>0</th>\n",
       "      <td>DATA ENGINEER (DATA SCIENTIST) -NCR (REMOTE) (...</td>\n",
       "      <td>Pillars -</td>\n",
       "      <td>Cairo, Egypt</td>\n",
       "      <td>Full Time</td>\n",
       "      <td>Experienced · 5 - 9 Yrs of Exp · IT/Software D...</td>\n",
       "    </tr>\n",
       "    <tr>\n",
       "      <th>1</th>\n",
       "      <td>Data Scientist/ Analyst- Remote - Urgent</td>\n",
       "      <td>GetTechForce.com -</td>\n",
       "      <td>Cairo, Egypt</td>\n",
       "      <td>Full TimeWork From Home</td>\n",
       "      <td>Experienced · 3+ Yrs of Exp · IT/Software Deve...</td>\n",
       "    </tr>\n",
       "    <tr>\n",
       "      <th>2</th>\n",
       "      <td>Data Scientist</td>\n",
       "      <td>Confidential -</td>\n",
       "      <td>Giza, Egypt</td>\n",
       "      <td>Full Time</td>\n",
       "      <td>Experienced · 2 - 4 Yrs of Exp · IT/Software D...</td>\n",
       "    </tr>\n",
       "    <tr>\n",
       "      <th>3</th>\n",
       "      <td>Senior Data Scientist</td>\n",
       "      <td>Confidential -</td>\n",
       "      <td>New Nozha, Cairo, Egypt</td>\n",
       "      <td>Full Time</td>\n",
       "      <td>Experienced · 4 - 6 Yrs of Exp · R&amp;D/Science ·...</td>\n",
       "    </tr>\n",
       "    <tr>\n",
       "      <th>4</th>\n",
       "      <td>Data Scientist</td>\n",
       "      <td>Seoudi Supermarket -</td>\n",
       "      <td>Sheikh Zayed, Giza, Egypt</td>\n",
       "      <td>Full Time</td>\n",
       "      <td>Experienced · 1 - 4 Yrs of Exp · IT/Software D...</td>\n",
       "    </tr>\n",
       "    <tr>\n",
       "      <th>5</th>\n",
       "      <td>immunology/immuno-oncology scientist</td>\n",
       "      <td>Proteinea -</td>\n",
       "      <td>Cairo, Egypt</td>\n",
       "      <td>Full Time</td>\n",
       "      <td>Entry Level · R&amp;D/Science · Immunology · immun...</td>\n",
       "    </tr>\n",
       "    <tr>\n",
       "      <th>6</th>\n",
       "      <td>Business Analyst \"Data &amp; AI\"</td>\n",
       "      <td>Global Brands -</td>\n",
       "      <td>New Cairo, Cairo, Egypt</td>\n",
       "      <td>Full Time</td>\n",
       "      <td>Experienced · 2 - 3 Yrs of Exp · Business Deve...</td>\n",
       "    </tr>\n",
       "    <tr>\n",
       "      <th>7</th>\n",
       "      <td>Data Science Software Intern</td>\n",
       "      <td>Sequel Solutions -</td>\n",
       "      <td>Cairo, Egypt</td>\n",
       "      <td>Internship</td>\n",
       "      <td>Student · 0 - 1 Yrs of Exp · IT/Software Devel...</td>\n",
       "    </tr>\n",
       "    <tr>\n",
       "      <th>8</th>\n",
       "      <td>Product Manager &amp; Team Lead</td>\n",
       "      <td>Genify.ai -</td>\n",
       "      <td>Cairo, Egypt</td>\n",
       "      <td>Full Time</td>\n",
       "      <td>Manager · 4 - 10 Yrs of Exp · Banking · IT/Sof...</td>\n",
       "    </tr>\n",
       "    <tr>\n",
       "      <th>9</th>\n",
       "      <td>Senior AI &amp; NLP Engineer</td>\n",
       "      <td>Eg Insurtech -</td>\n",
       "      <td>Cairo, Egypt</td>\n",
       "      <td>Full Time</td>\n",
       "      <td>Experienced · 4 - 6 Yrs of Exp · IT/Software D...</td>\n",
       "    </tr>\n",
       "    <tr>\n",
       "      <th>10</th>\n",
       "      <td>Senior Data Management Engineer</td>\n",
       "      <td>Ejada  -</td>\n",
       "      <td>Cairo, Egypt</td>\n",
       "      <td>Full Time</td>\n",
       "      <td>Experienced · 5+ Yrs of Exp · IT/Software Deve...</td>\n",
       "    </tr>\n",
       "    <tr>\n",
       "      <th>11</th>\n",
       "      <td>Full Stack Developer - Laravel</td>\n",
       "      <td>Visit Ventures -</td>\n",
       "      <td>Tanta, Gharbia, Egypt</td>\n",
       "      <td>Full TimeWork From Home</td>\n",
       "      <td>Entry Level · 2 - 4 Yrs of Exp · IT/Software D...</td>\n",
       "    </tr>\n",
       "    <tr>\n",
       "      <th>12</th>\n",
       "      <td>Power BI Developer</td>\n",
       "      <td>Duravit AG -</td>\n",
       "      <td>10th of Ramadan City, Cairo, Egypt</td>\n",
       "      <td>Full Time</td>\n",
       "      <td>Entry Level · 2 - 3 Yrs of Exp · IT/Software D...</td>\n",
       "    </tr>\n",
       "    <tr>\n",
       "      <th>13</th>\n",
       "      <td>Full Stack Developer</td>\n",
       "      <td>The Egyptian Microfinance Company- Maksab -</td>\n",
       "      <td>Cairo, Egypt</td>\n",
       "      <td>Full Time</td>\n",
       "      <td>Experienced · 2 - 5 Yrs of Exp · Creative/Desi...</td>\n",
       "    </tr>\n",
       "    <tr>\n",
       "      <th>14</th>\n",
       "      <td>Senior Full Stack Developer (.NET &amp; Angular)</td>\n",
       "      <td>FlairsTech -</td>\n",
       "      <td>Cairo, Egypt</td>\n",
       "      <td>Full Time</td>\n",
       "      <td>Experienced · 4 - 7 Yrs of Exp · Creative/Desi...</td>\n",
       "    </tr>\n",
       "  </tbody>\n",
       "</table>\n",
       "</div>"
      ],
      "text/plain": [
       "                                            job_title  \\\n",
       "0   DATA ENGINEER (DATA SCIENTIST) -NCR (REMOTE) (...   \n",
       "1            Data Scientist/ Analyst- Remote - Urgent   \n",
       "2                                      Data Scientist   \n",
       "3                               Senior Data Scientist   \n",
       "4                                      Data Scientist   \n",
       "5                immunology/immuno-oncology scientist   \n",
       "6                        Business Analyst \"Data & AI\"   \n",
       "7                        Data Science Software Intern   \n",
       "8                         Product Manager & Team Lead   \n",
       "9                            Senior AI & NLP Engineer   \n",
       "10                    Senior Data Management Engineer   \n",
       "11                     Full Stack Developer - Laravel   \n",
       "12                                 Power BI Developer   \n",
       "13                               Full Stack Developer   \n",
       "14       Senior Full Stack Developer (.NET & Angular)   \n",
       "\n",
       "                                   company_name  \\\n",
       "0                                     Pillars -   \n",
       "1                            GetTechForce.com -   \n",
       "2                                Confidential -   \n",
       "3                                Confidential -   \n",
       "4                          Seoudi Supermarket -   \n",
       "5                                   Proteinea -   \n",
       "6                               Global Brands -   \n",
       "7                            Sequel Solutions -   \n",
       "8                                   Genify.ai -   \n",
       "9                                Eg Insurtech -   \n",
       "10                                     Ejada  -   \n",
       "11                             Visit Ventures -   \n",
       "12                                 Duravit AG -   \n",
       "13  The Egyptian Microfinance Company- Maksab -   \n",
       "14                                 FlairsTech -   \n",
       "\n",
       "                       company_location               job_nature  \\\n",
       "0                         Cairo, Egypt                 Full Time   \n",
       "1                         Cairo, Egypt   Full TimeWork From Home   \n",
       "2                          Giza, Egypt                 Full Time   \n",
       "3              New Nozha, Cairo, Egypt                 Full Time   \n",
       "4            Sheikh Zayed, Giza, Egypt                 Full Time   \n",
       "5                         Cairo, Egypt                 Full Time   \n",
       "6              New Cairo, Cairo, Egypt                 Full Time   \n",
       "7                         Cairo, Egypt                Internship   \n",
       "8                         Cairo, Egypt                 Full Time   \n",
       "9                         Cairo, Egypt                 Full Time   \n",
       "10                        Cairo, Egypt                 Full Time   \n",
       "11               Tanta, Gharbia, Egypt   Full TimeWork From Home   \n",
       "12  10th of Ramadan City, Cairo, Egypt                 Full Time   \n",
       "13                        Cairo, Egypt                 Full Time   \n",
       "14                        Cairo, Egypt                 Full Time   \n",
       "\n",
       "                                           job_skills  \n",
       "0   Experienced · 5 - 9 Yrs of Exp · IT/Software D...  \n",
       "1   Experienced · 3+ Yrs of Exp · IT/Software Deve...  \n",
       "2   Experienced · 2 - 4 Yrs of Exp · IT/Software D...  \n",
       "3   Experienced · 4 - 6 Yrs of Exp · R&D/Science ·...  \n",
       "4   Experienced · 1 - 4 Yrs of Exp · IT/Software D...  \n",
       "5   Entry Level · R&D/Science · Immunology · immun...  \n",
       "6   Experienced · 2 - 3 Yrs of Exp · Business Deve...  \n",
       "7   Student · 0 - 1 Yrs of Exp · IT/Software Devel...  \n",
       "8   Manager · 4 - 10 Yrs of Exp · Banking · IT/Sof...  \n",
       "9   Experienced · 4 - 6 Yrs of Exp · IT/Software D...  \n",
       "10  Experienced · 5+ Yrs of Exp · IT/Software Deve...  \n",
       "11  Entry Level · 2 - 4 Yrs of Exp · IT/Software D...  \n",
       "12  Entry Level · 2 - 3 Yrs of Exp · IT/Software D...  \n",
       "13  Experienced · 2 - 5 Yrs of Exp · Creative/Desi...  \n",
       "14  Experienced · 4 - 7 Yrs of Exp · Creative/Desi...  "
      ]
     },
     "execution_count": 158,
     "metadata": {},
     "output_type": "execute_result"
    }
   ],
   "source": [
    "wuzzuf"
   ]
  },
  {
   "cell_type": "code",
   "execution_count": 160,
   "id": "dc288f46",
   "metadata": {},
   "outputs": [],
   "source": [
    "wuzzuf.to_csv('wuzzuf.csv',index=False)"
   ]
  },
  {
   "cell_type": "code",
   "execution_count": null,
   "id": "2935cfe5",
   "metadata": {},
   "outputs": [],
   "source": []
  }
 ],
 "metadata": {
  "kernelspec": {
   "display_name": "Python 3 (ipykernel)",
   "language": "python",
   "name": "python3"
  },
  "language_info": {
   "codemirror_mode": {
    "name": "ipython",
    "version": 3
   },
   "file_extension": ".py",
   "mimetype": "text/x-python",
   "name": "python",
   "nbconvert_exporter": "python",
   "pygments_lexer": "ipython3",
   "version": "3.10.9"
  }
 },
 "nbformat": 4,
 "nbformat_minor": 5
}
